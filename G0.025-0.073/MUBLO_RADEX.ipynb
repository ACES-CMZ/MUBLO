{
 "cells": [
  {
   "cell_type": "code",
   "execution_count": 1,
   "id": "dc175b67-b13c-4142-abff-a31cecacd719",
   "metadata": {},
   "outputs": [],
   "source": [
    "import pyradex"
   ]
  },
  {
   "cell_type": "code",
   "execution_count": 2,
   "id": "368b5971-972a-4da1-94b5-e2dfda08fd53",
   "metadata": {},
   "outputs": [
    {
     "name": "stdout",
     "output_type": "stream",
     "text": [
      "0.4.2dev\n",
      "['/blue/adamginsburg/adamginsburg/repos/pyradex/pyradex']\n"
     ]
    }
   ],
   "source": [
    "print(pyradex.__version__)\n",
    "print(pyradex.__path__)"
   ]
  },
  {
   "cell_type": "markdown",
   "id": "52431a8f-909a-477e-883f-fa4eff78df2c",
   "metadata": {},
   "source": [
    "# non-LTE check"
   ]
  },
  {
   "cell_type": "code",
   "execution_count": 3,
   "id": "d7c81d66-5e60-46ee-ab46-7e3e43ea49ce",
   "metadata": {},
   "outputs": [],
   "source": [
    "import numpy as np\n",
    "import pyradex\n",
    "import importlib as imp\n",
    "imp.reload(pyradex)\n",
    "from astropy import units as u"
   ]
  },
  {
   "cell_type": "raw",
   "id": "5454bde6-632e-4b75-9995-aa951e66f418",
   "metadata": {
    "scrolled": true
   },
   "source": [
    "R = pyradex.Radex(temperature=13*u.K, collider_densities={'h2': 1e3*u.cm**-3}, abundance=1e-8, species='so@lique', deltav=70)\n",
    "R = pyradex.Radex(temperature=13*u.K, collider_densities={'h2': 1e3*u.cm**-3}, abundance=1e-8, species='SO.Fine', deltav=70)\n",
    "# can grab more recent fine structure collision rates fro https://emaa.osug.fr/details/SO"
   ]
  },
  {
   "cell_type": "code",
   "execution_count": 4,
   "id": "6e45c29d-fc4e-4b7b-9ce4-388c140b7cf6",
   "metadata": {},
   "outputs": [
    {
     "name": "stderr",
     "output_type": "stream",
     "text": [
      "/blue/adamginsburg/adamginsburg/repos/pyradex/pyradex/core.py:542: UserWarning: Using a default ortho-to-para ratio (which will only affect species for which independent ortho & para collision rates are given)\n",
      "  warnings.warn(\"Using a default ortho-to-para ratio (which \"\n"
     ]
    }
   ],
   "source": [
    "R = pyradex.Radex(temperature=13*u.K, collider_densities={'h2': 1e3*u.cm**-3}, abundance=1e-8, species='SO.Fine', deltav=70)"
   ]
  },
  {
   "cell_type": "code",
   "execution_count": null,
   "id": "f2531ca5-1b7f-447d-99a8-067537d25119",
   "metadata": {},
   "outputs": [],
   "source": [
    "R(density={'h2': 1e6*u.cm**-3})[np.array([13, 17])]"
   ]
  },
  {
   "cell_type": "raw",
   "id": "8c6f306f-2ef4-427d-beb0-ea536e080f64",
   "metadata": {},
   "source": [
    "R()[np.array([13, 17])]"
   ]
  },
  {
   "cell_type": "code",
   "execution_count": null,
   "id": "3fb46189-f8d9-46bf-baf8-65e7d8608794",
   "metadata": {},
   "outputs": [],
   "source": []
  },
  {
   "cell_type": "code",
   "execution_count": null,
   "id": "edc24da3-7176-4c35-b232-179275c70a96",
   "metadata": {},
   "outputs": [],
   "source": [
    "rvsdens = []\n",
    "so3221 = []\n",
    "so2211 = []\n",
    "so5444 = []\n",
    "for density in np.geomspace(1e2, 1e7):\n",
    "    rvsdens.append(R(density={'h2': density*u.cm**-3}, temperature=13, abundance=1e-8))\n",
    "    so3221.append(rvsdens[-1][2]['T_B'])\n",
    "    so2211.append(rvsdens[-1][13]['T_B'])\n",
    "    so5444.append(rvsdens[-1][38]['T_B'])\n",
    "\n",
    "pl.figure(1).clf()\n",
    "pl.semilogx(np.geomspace(1e2, 1e7), so3221)\n",
    "pl.semilogx(np.geomspace(1e2, 1e7), so2211)\n",
    "#pl.semilogx(np.geomspace(1e2, 1e7), so5444)\n",
    "pl.semilogx(np.geomspace(1e2, 1e7), np.array(so3221) / np.array(so2211), label='Ratio 32/21')\n",
    "#pl.semilogx(np.geomspace(1e2, 1e7), np.array(so3221) / np.array(so5444), label='Ratio 32/54')\n",
    "pl.axhline(1.869/0.383)\n",
    "pl.legend(loc='best')\n",
    "pl.xlabel(\"Density\");\n",
    "#pl.ylim(0,3)"
   ]
  },
  {
   "cell_type": "raw",
   "id": "9ca9fb78-4a73-4078-9d67-ccf4af3d0c44",
   "metadata": {},
   "source": [
    "rvsdens = []\n",
    "so3221 = []\n",
    "so2211 = []\n",
    "so5444 = []\n",
    "for density in np.geomspace(1e2, 5e7):\n",
    "    rvsdens.append(R(density={'h2': density*u.cm**-3}, temperature=25, abundance=1e-8))\n",
    "    so3221.append(rvsdens[-1][2]['T_B'])\n",
    "    so2211.append(rvsdens[-1][13]['T_B'])\n",
    "    so5444.append(rvsdens[-1][38]['T_B'])\n",
    "\n",
    "pl.figure(5).clf()\n",
    "pl.semilogx(np.geomspace(1e2, 1e7), so3221)\n",
    "pl.semilogx(np.geomspace(1e2, 1e7), so2211)\n",
    "#pl.semilogx(np.geomspace(1e2, 1e7), so5444)\n",
    "pl.semilogx(np.geomspace(1e2, 1e7), np.array(so3221) / np.array(so2211), label='Ratio 32/21')\n",
    "#pl.semilogx(np.geomspace(1e2, 1e7), np.array(so3221) / np.array(so5444), label='Ratio 32/54')\n",
    "pl.axhline(1.869/0.383)\n",
    "pl.legend(loc='best')\n",
    "pl.xlabel(\"Density\");\n",
    "pl.title(\"Temperature = 25\")\n",
    "#pl.ylim(0,3)"
   ]
  },
  {
   "cell_type": "raw",
   "id": "1c7e3a5b-a36b-48be-aabf-5d23228afe95",
   "metadata": {},
   "source": [
    "rvsdens = []\n",
    "so3221 = []\n",
    "so2211 = []\n",
    "so5444 = []\n",
    "for density in np.geomspace(1e2, 5e7):\n",
    "    rvsdens.append(R(density={'h2': density*u.cm**-3}, temperature=150, abundance=1e-8))\n",
    "    so3221.append(rvsdens[-1][2]['T_B'])\n",
    "    so2211.append(rvsdens[-1][13]['T_B'])\n",
    "    so5444.append(rvsdens[-1][38]['T_B'])\n",
    "\n",
    "pl.figure(6).clf()\n",
    "pl.semilogx(np.geomspace(1e2, 1e7), so3221)\n",
    "pl.semilogx(np.geomspace(1e2, 1e7), so2211)\n",
    "#pl.semilogx(np.geomspace(1e2, 1e7), so5444)\n",
    "pl.semilogx(np.geomspace(1e2, 1e7), np.array(so3221) / np.array(so2211), label='Ratio 32/21')\n",
    "#pl.semilogx(np.geomspace(1e2, 1e7), np.array(so3221) / np.array(so5444), label='Ratio 32/54')\n",
    "pl.axhline(1.869/0.383)\n",
    "pl.legend(loc='best')\n",
    "pl.xlabel(\"Density\");\n",
    "pl.title(\"Temperature = 150\")\n",
    "#pl.ylim(0,3)"
   ]
  },
  {
   "cell_type": "raw",
   "id": "2878a6ff-55dd-4c71-95d1-eee9f0657139",
   "metadata": {},
   "source": [
    "## rvsdens = []\n",
    "so3221 = []\n",
    "so2211 = []\n",
    "so5444 = []\n",
    "for density in np.geomspace(1e2, 5e7):\n",
    "    rvsdens.append(R(density={'h2': density*u.cm**-3}, temperature=90, abundance=1e-8))\n",
    "    so3221.append(rvsdens[-1][2]['T_B'])\n",
    "    so2211.append(rvsdens[-1][13]['T_B'])\n",
    "    so5444.append(rvsdens[-1][38]['T_B'])\n",
    "\n",
    "pl.figure(7).clf()\n",
    "pl.semilogx(np.geomspace(1e2, 1e7), so3221)\n",
    "pl.semilogx(np.geomspace(1e2, 1e7), so2211)\n",
    "#pl.semilogx(np.geomspace(1e2, 1e7), so5444)\n",
    "pl.semilogx(np.geomspace(1e2, 1e7), np.array(so3221) / np.array(so2211), label='Ratio 32/21')\n",
    "#pl.semilogx(np.geomspace(1e2, 1e7), np.array(so3221) / np.array(so5444), label='Ratio 32/54')\n",
    "pl.axhline(1.869/0.383)\n",
    "pl.legend(loc='best')\n",
    "pl.xlabel(\"Density\");\n",
    "pl.title(\"Temperature = 90\")\n",
    "#pl.ylim(0,3)"
   ]
  },
  {
   "cell_type": "raw",
   "id": "e2020578-fd63-467f-b934-8aeb154b31c6",
   "metadata": {},
   "source": [
    "rvstem = []\n",
    "so3221 = []\n",
    "so2211 = []\n",
    "so5444 = []\n",
    "for temperature in range(5, 100, 5):\n",
    "    rvstem.append(R(density={'h2': 1e5*u.cm**-3}, temperature=temperature, abundance=1e-8))\n",
    "    so3221.append(rvstem[-1][2]['T_B'])\n",
    "    so2211.append(rvstem[-1][13]['T_B'])\n",
    "    so5444.append(rvstem[-1][38]['T_B'])\n",
    "pl.figure(2).clf()\n",
    "pl.plot(np.arange(5,100,5), so3221)\n",
    "pl.plot(np.arange(5,100,5), so2211)\n",
    "#pl.plot(np.arange(5,100,5), so5444)\n",
    "pl.plot(np.arange(5,100,5), np.array(so3221) / np.array(so2211), label='Ratio 32/21')\n",
    "#pl.plot(np.arange(5,100,5), np.array(so3221) / np.array(so5444), label='Ratio 32/54')\n",
    "pl.axhline(1.869/0.383)\n",
    "pl.legend(loc='best')\n",
    "pl.xlabel(\"Temperature\")\n",
    "#pl.ylim(0,3)"
   ]
  },
  {
   "cell_type": "raw",
   "id": "e334e8c0-17b4-4aa3-a67e-ce2967059b36",
   "metadata": {},
   "source": [
    "rvstem = []\n",
    "so3221 = []\n",
    "so2211 = []\n",
    "so5444 = []\n",
    "for temperature in range(5, 100, 5):\n",
    "    rvstem.append(R(density={'h2': 1e6*u.cm**-3}, temperature=temperature, abundance=1e-8))\n",
    "    so3221.append(rvstem[-1][2]['T_B'])\n",
    "    so2211.append(rvstem[-1][13]['T_B'])\n",
    "    so5444.append(rvstem[-1][38]['T_B'])\n",
    "pl.figure(3).clf()\n",
    "pl.plot(np.arange(5,100,5), so3221)\n",
    "pl.plot(np.arange(5,100,5), so2211)\n",
    "#pl.plot(np.arange(5,100,5), so5444)\n",
    "pl.plot(np.arange(5,100,5), np.array(so3221) / np.array(so2211), label='Ratio 32/21')\n",
    "#pl.plot(np.arange(5,100,5), np.array(so3221) / np.array(so5444), label='Ratio 32/54')\n",
    "pl.axhline(1.869/0.383)\n",
    "pl.legend(loc='best')\n",
    "pl.xlabel(\"Temperature\")\n",
    "pl.title(\"density = 1e6\")\n",
    "#pl.ylim(0,3)"
   ]
  },
  {
   "cell_type": "code",
   "execution_count": null,
   "id": "e01171d2-aa89-442b-8c65-901acaa4fe7f",
   "metadata": {},
   "outputs": [],
   "source": [
    "1.869/0.383"
   ]
  },
  {
   "cell_type": "raw",
   "id": "5e90c6e5-6a18-435b-829b-5ca7626307b0",
   "metadata": {},
   "source": [
    "rvstem = []\n",
    "so3221 = []\n",
    "so2211 = []\n",
    "so5444 = []\n",
    "for temperature in range(5, 100, 5):\n",
    "    rvstem.append(R(density={'h2': 1e4*u.cm**-3}, temperature=temperature, abundance=1e-8))\n",
    "    so3221.append(rvstem[-1][2]['T_B'])\n",
    "    so2211.append(rvstem[-1][13]['T_B'])\n",
    "    so5444.append(rvstem[-1][38]['T_B'])\n",
    "pl.figure(4).clf()\n",
    "pl.plot(np.arange(5,100,5), so3221)\n",
    "pl.plot(np.arange(5,100,5), so2211)\n",
    "#pl.plot(np.arange(5,100,5), so5444)\n",
    "pl.plot(np.arange(5,100,5), np.array(so3221) / np.array(so2211), label='Ratio 32/21')\n",
    "#pl.plot(np.arange(5,100,5), np.array(so3221) / np.array(so5444), label='Ratio 32/54')\n",
    "pl.axhline(1.869/0.383)\n",
    "pl.legend(loc='best')\n",
    "pl.xlabel(\"Temperature\")\n",
    "pl.title(\"density = 1e4\")\n",
    "#pl.ylim(0,3)"
   ]
  },
  {
   "cell_type": "code",
   "execution_count": null,
   "id": "544fe4b6-8c7b-4aab-ab39-74ec4934ef8a",
   "metadata": {},
   "outputs": [],
   "source": [
    "print(\"TEST\")"
   ]
  },
  {
   "cell_type": "code",
   "execution_count": null,
   "id": "39850514-046c-4dc9-8465-5ce55f0d15c1",
   "metadata": {},
   "outputs": [],
   "source": [
    "%run radexgrid.py"
   ]
  },
  {
   "cell_type": "code",
   "execution_count": null,
   "id": "5b44dab2-5d79-4409-9474-77b10897f586",
   "metadata": {},
   "outputs": [],
   "source": []
  }
 ],
 "metadata": {
  "kernelspec": {
   "display_name": "py310",
   "language": "python",
   "name": "py310"
  },
  "language_info": {
   "codemirror_mode": {
    "name": "ipython",
    "version": 3
   },
   "file_extension": ".py",
   "mimetype": "text/x-python",
   "name": "python",
   "nbconvert_exporter": "python",
   "pygments_lexer": "ipython3",
   "version": "3.10.8"
  }
 },
 "nbformat": 4,
 "nbformat_minor": 5
}
