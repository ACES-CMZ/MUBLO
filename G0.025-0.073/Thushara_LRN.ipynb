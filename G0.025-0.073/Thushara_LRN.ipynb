{
 "cells": [
  {
   "cell_type": "code",
   "execution_count": 2,
   "id": "cc75c2a5-1222-4121-b387-47488f463ccb",
   "metadata": {},
   "outputs": [
    {
     "data": {
      "text/html": [
       "<div>\n",
       "<style scoped>\n",
       "    .dataframe tbody tr th:only-of-type {\n",
       "        vertical-align: middle;\n",
       "    }\n",
       "\n",
       "    .dataframe tbody tr th {\n",
       "        vertical-align: top;\n",
       "    }\n",
       "\n",
       "    .dataframe thead th {\n",
       "        text-align: right;\n",
       "    }\n",
       "</style>\n",
       "<table border=\"1\" class=\"dataframe\">\n",
       "  <thead>\n",
       "    <tr style=\"text-align: right;\">\n",
       "      <th></th>\n",
       "      <th>Target Names</th>\n",
       "      <th>SO/SiO</th>\n",
       "      <th>T (K)</th>\n",
       "    </tr>\n",
       "  </thead>\n",
       "  <tbody>\n",
       "    <tr>\n",
       "      <th>0</th>\n",
       "      <td>MUBLO</td>\n",
       "      <td>&gt; 100</td>\n",
       "      <td>13.4</td>\n",
       "    </tr>\n",
       "    <tr>\n",
       "      <th>1</th>\n",
       "      <td>CK Vul</td>\n",
       "      <td>1</td>\n",
       "      <td>17 (median of &gt; 10 mols, SO2 20-25K)</td>\n",
       "    </tr>\n",
       "    <tr>\n",
       "      <th>2</th>\n",
       "      <td>V1309 Sco</td>\n",
       "      <td>1.8/7†</td>\n",
       "      <td>78 (from SO2)</td>\n",
       "    </tr>\n",
       "    <tr>\n",
       "      <th>3</th>\n",
       "      <td>C4332 Sgr</td>\n",
       "      <td>1.4</td>\n",
       "      <td>93  (from SO2)</td>\n",
       "    </tr>\n",
       "    <tr>\n",
       "      <th>4</th>\n",
       "      <td>V838 Mon</td>\n",
       "      <td>1</td>\n",
       "      <td>70-210  (SO, CO, SiO, SO2)</td>\n",
       "    </tr>\n",
       "  </tbody>\n",
       "</table>\n",
       "</div>"
      ],
      "text/plain": [
       "  Target Names  SO/SiO                                 T (K)\n",
       "0        MUBLO   > 100                                  13.4\n",
       "1       CK Vul       1  17 (median of > 10 mols, SO2 20-25K)\n",
       "2    V1309 Sco  1.8/7†                         78 (from SO2)\n",
       "3    C4332 Sgr     1.4                        93  (from SO2)\n",
       "4     V838 Mon       1            70-210  (SO, CO, SiO, SO2)"
      ]
     },
     "metadata": {},
     "output_type": "display_data"
    },
    {
     "name": "stdout",
     "output_type": "stream",
     "text": [
      "\n",
      "Footnotes:\n",
      "† Depending on the velocity attributed for SiO association to that of SO.\n",
      "  RN Values from Kamisnki et al. 2018, Kaminski et al.2020.\n"
     ]
    }
   ],
   "source": [
    "import pandas as pd\n",
    "# Data for the table\n",
    "data = {\n",
    "    \"Target Names\": [\"MUBLO\", \"CK Vul\", \"V1309 Sco\", \"C4332 Sgr\", \"V838 Mon\"],\n",
    "    \"SO/SiO\": [\"> 100\", \"1\", \"1.8/7 (footnote depending on the velocity attributed for SiO association to that of SO)\", \"1.4\", \"1\"],\n",
    "    \"T (K)\": [\"13.4\", \"17 (median of > 10 mols, SO2 20-25K)\", \"78 (from SO2)\", \"93  (from SO2)\", \"70-210  (SO, CO, SiO, SO2)\"]\n",
    "}\n",
    "# Create Table\n",
    "df = pd.DataFrame(data)\n",
    "# Update the SO/SiO value with a footnote marker for V1309 Sco\n",
    "data[\"SO/SiO\"][2] = \"1.8/7†\"\n",
    "# Re-create the DataFrame with the updated data\n",
    "df_updated = pd.DataFrame(data)\n",
    "# Display\n",
    "display(df_updated)\n",
    "# Print the footnotes\n",
    "print(\"\\nFootnotes:\")\n",
    "print(\"† Depending on the velocity attributed for SiO association to that of SO.\")\n",
    "print(\"  RN Values from Kamisnki et al. 2018, Kaminski et al.2020.\")\n",
    "#K18: https://ui.adsabs.harvard.edu/abs/2018A%26A...617A.129K/abstract\n",
    "#K20: https://ui.adsabs.harvard.edu/abs/2020A%26A...644A..59K/exportcitation\n"
   ]
  },
  {
   "cell_type": "code",
   "execution_count": null,
   "id": "93d80065-5494-4dc7-9c3d-41f2c0bf6a7d",
   "metadata": {},
   "outputs": [],
   "source": []
  }
 ],
 "metadata": {
  "kernelspec": {
   "display_name": "py310",
   "language": "python",
   "name": "py310"
  },
  "language_info": {
   "codemirror_mode": {
    "name": "ipython",
    "version": 3
   },
   "file_extension": ".py",
   "mimetype": "text/x-python",
   "name": "python",
   "nbconvert_exporter": "python",
   "pygments_lexer": "ipython3",
   "version": "3.10.8"
  }
 },
 "nbformat": 4,
 "nbformat_minor": 5
}
