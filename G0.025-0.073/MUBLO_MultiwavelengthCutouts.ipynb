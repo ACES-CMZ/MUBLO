{
 "cells": [
  {
   "cell_type": "markdown",
   "id": "819cb120-b3a8-4a24-8334-6c25d27acedf",
   "metadata": {},
   "source": [
    "# Multiwavelength cutout"
   ]
  },
  {
   "cell_type": "code",
   "execution_count": 173,
   "id": "51aa0f71-c755-4284-ab9d-e0877aca07c4",
   "metadata": {},
   "outputs": [],
   "source": [
    "import importlib as imp\n",
    "import astroquery\n",
    "imp.reload(astroquery)\n",
    "import astroquery.herschel.higal\n",
    "imp.reload(astroquery.herschel.higal)\n",
    "import pylab as pl\n",
    "pl.rcParams['figure.dpi'] = 150"
   ]
  },
  {
   "cell_type": "code",
   "execution_count": 174,
   "id": "93232be5-7605-4eff-95a6-e17aa388fd6d",
   "metadata": {},
   "outputs": [],
   "source": [
    "from astropy.coordinates import SkyCoord\n",
    "from astropy import units as u"
   ]
  },
  {
   "cell_type": "code",
   "execution_count": 175,
   "id": "69830e8f-3e4a-4321-9a10-275f05a89224",
   "metadata": {},
   "outputs": [],
   "source": [
    "%run /orange/adamginsburg/mgps/mgps/analysis/make_sed_cutout_image.py"
   ]
  },
  {
   "cell_type": "code",
   "execution_count": 176,
   "id": "91e628e1-de3d-4643-bf51-1e145dc3be54",
   "metadata": {},
   "outputs": [],
   "source": [
    "paths.basepath = '/orange/adamginsburg/mgps/mgps/'"
   ]
  },
  {
   "cell_type": "code",
   "execution_count": 177,
   "id": "d539c027-9106-4371-9854-417433f7771f",
   "metadata": {},
   "outputs": [
    {
     "data": {
      "text/plain": [
       "<SkyCoord (Galactic): (l, b) in deg\n",
       "    (0.0246741, -0.0727428)>"
      ]
     },
     "execution_count": 177,
     "metadata": {},
     "output_type": "execute_result"
    }
   ],
   "source": [
    "coord = SkyCoord(\"17:45:57.7530532310 -28:57:10.7694483833\", unit=(u.h, u.deg), frame='icrs')\n",
    "coord.galactic"
   ]
  },
  {
   "cell_type": "raw",
   "id": "24e278cd-a22d-457a-8312-a7bb7ecbf83a",
   "metadata": {},
   "source": [
    "make_sed_plot(coordinate=coord, \n",
    "    mgpsfile='/orange/adamginsburg/ACES/mosaics/continuum/12m_continuum_commonbeam_circular_reimaged_mosaic_MUSTANGfeathered.fits',\n",
    "              regname='SgrB2'\n",
    "             )\n",
    "\n",
    "#pl.savefig('/orange/adamginsburg/ACES/broadline_sources/G0.025-0.073/continuum_cutouts.pdf', bbox_inches='tight')#pl.savefig('/orange/adamginsburg/ACES/broadline_sources/G0.025-0.073/continuum_cutouts.png', bbox_inches='tight')"
   ]
  },
  {
   "cell_type": "raw",
   "id": "5bacff3a-ac62-401f-b79f-abba8f709c49",
   "metadata": {},
   "source": [
    "higal_ims = HiGal.get_images(coord, radius=1*u.arcmin)\n",
    "higal_ims"
   ]
  },
  {
   "cell_type": "markdown",
   "id": "bcc399cd-8b08-4eab-b4b3-a6428debc510",
   "metadata": {},
   "source": [
    "### Final Version"
   ]
  },
  {
   "cell_type": "code",
   "execution_count": 178,
   "id": "47dc28f2-9fd0-4c0f-971f-e9dc5db29673",
   "metadata": {},
   "outputs": [],
   "source": [
    "ims = {\n",
    "    #'4-9 keV': '/orange/adamginsburg/ACES/broadline_sources/G0.025-0.073/acisi-band3-4.fits',\n",
    "    #'3.6um': '/orange/adamginsburg/cmz/glimpse_data/GLM_00000+0000_mosaic_I1.fits',\n",
    "    #'4.5um': '/orange/adamginsburg/cmz/glimpse_data/GLM_00000+0000_mosaic_I2.fits',\n",
    "    #'5.8um': '/orange/adamginsburg/cmz/glimpse_data/GLM_00000+0000_mosaic_I3.fits',\n",
    "    #'8.0um': '/orange/adamginsburg/cmz/glimpse_data/GLM_00000+0000_mosaic_I4.fits',\n",
    "    # '3.6um': '/orange/adamginsburg/ACES/broadline_sources/G0.025-0.073/cutout_SPITZER_I1_13368832_0000_6_E8709676_maic.fits',\n",
    "    # '4.5um': '/orange/adamginsburg/ACES/broadline_sources/G0.025-0.073/cutout_SPITZER_I2_13368832_0000_6_E8709929_maic.fits',\n",
    "    # '5.8um': '/orange/adamginsburg/ACES/broadline_sources/G0.025-0.073/cutout_SPITZER_I3_13368832_0000_6_E8709933_maic.fits',\n",
    "    # '8.0um': '/orange/adamginsburg/ACES/broadline_sources/G0.025-0.073/cutout_SPITZER_I4_13368832_0000_6_E8709940_maic.fits',\n",
    "    \n",
    "    '3.6um': '/orange/adamginsburg/ACES/broadline_sources/G0.025-0.073/SPITZER_stolovy_I1_13368832_0000_6_E8709676_maic.fits',\n",
    "    '4.5um': '/orange/adamginsburg/ACES/broadline_sources/G0.025-0.073/SPITZER_stolovy_I2_13368832_0000_6_E8709929_maic.fits',\n",
    "    '5.8um': '/orange/adamginsburg/ACES/broadline_sources/G0.025-0.073/SPITZER_stolovy_I3_13368832_0000_6_E8709933_maic.fits',\n",
    "    '8.0um': '/orange/adamginsburg/ACES/broadline_sources/G0.025-0.073/SPITZER_stolovy_I4_13368832_0000_6_E8709940_maic.fits',\n",
    "    '24um': '/orange/adamginsburg/cmz/mipsgal_24micron_data/gc_mosaic_MIPSGAL_gal.fits',\n",
    "    '70um': '/orange/adamginsburg/cmz/herschel/destripe_l000_blue_wgls_rcal.fits',\n",
    "    '160um': '/orange/adamginsburg/cmz/herschel/destripe_l000_red_wgls_rcal.fits',\n",
    "    '250um': '/orange/adamginsburg/cmz/herschel/destripe_l000_PSW_wgls_rcal.fits',\n",
    "    #'450um': '/orange/adamginsburg/cmz/scuba2/450um_map.fits',\n",
    "    #'350um': '/orange/adamginsburg/cmz/herschel/destripe_l000_PMW_wgls_rcal.fits',\n",
    "    #'500um': '/orange/adamginsburg/cmz/herschel/destripe_l000_PLW_wgls_rcal.fits',\n",
    "    '850um': '/orange/adamginsburg/ACES/ancillary/data/2017.1.01185.S/science_goal.uid___A001_X12a3_Xe7/group.uid___A001_X12a3_Xe8/member.uid___A001_X12a3_Xe9/calibrated/50_kms_cloud_sci.spw0_1_2_3_4_5_6_7_8_9_10_11_12_13_14_15.mfs.I.manual.image.pbcor.fits',\n",
    "    '3mm': '/orange/adamginsburg/ACES/mosaics/continuum/12m_continuum_commonbeam_circular_reimaged_mosaic_MUSTANGfeathered.fits',\n",
    "    '6cm': '/orange/adamginsburg/cmz/xinglu/SgrA_CONT_tclean_nterm2.image.tt0.fits',\n",
    "    '20cm': '/orange/adamginsburg/cmz/meerkat/MeerKAT_Galactic_Centre_1284MHz-StokesI.fits'\n",
    "}"
   ]
  },
  {
   "cell_type": "code",
   "execution_count": 179,
   "id": "2c7555c0-21a4-4201-99ec-9a41b035679d",
   "metadata": {},
   "outputs": [],
   "source": [
    "import matplotlib.colors as mcolors\n",
    "import numpy as np\n",
    "from astropy.visualization import simple_norm\n",
    "\n",
    "colors1 = pl.cm.gray_r(np.linspace(0., 1, 128))\n",
    "colors2 = pl.cm.hot(np.linspace(0, 1, 128))\n",
    "\n",
    "colors = np.vstack((colors1, colors2))\n",
    "mymap = mcolors.LinearSegmentedColormap.from_list('my_colormap', colors)"
   ]
  },
  {
   "cell_type": "code",
   "execution_count": 180,
   "id": "77cb9e13-538e-4f53-bfed-699eb8565b38",
   "metadata": {},
   "outputs": [],
   "source": [
    "import regions"
   ]
  },
  {
   "cell_type": "code",
   "execution_count": 181,
   "id": "ef78a0bc-b4d7-4dbd-825b-d0de6863935a",
   "metadata": {},
   "outputs": [],
   "source": [
    "region = regions.RectangleSkyRegion(center=coord, width=15*u.arcsec, height=15*u.arcsec)\n",
    "cutregion = regions.CircleSkyRegion(center=coord, radius=15*u.arcsec) # circumscribe the above region so we can match RA/Dec to Galactic"
   ]
  },
  {
   "cell_type": "code",
   "execution_count": 182,
   "id": "6bd96c98-031b-4204-a3d4-842ca274a16b",
   "metadata": {},
   "outputs": [],
   "source": [
    "bigregion = regions.RectangleSkyRegion(center=coord, width=35*u.arcsec, height=35*u.arcsec)\n",
    "bigcircregion = regions.CircleSkyRegion(center=coord, radius=35*u.arcsec)"
   ]
  },
  {
   "cell_type": "code",
   "execution_count": 183,
   "id": "f4d49ff5-bfc0-4f39-8e93-70c119e343a5",
   "metadata": {},
   "outputs": [],
   "source": [
    "biggerregion = regions.RectangleSkyRegion(center=coord, width=65*u.arcsec, height=65*u.arcsec)"
   ]
  },
  {
   "cell_type": "code",
   "execution_count": 184,
   "id": "e8630c7d-dc43-400d-95a2-2d1a94d48685",
   "metadata": {},
   "outputs": [],
   "source": [
    "from astropy.wcs import WCS"
   ]
  },
  {
   "cell_type": "code",
   "execution_count": 185,
   "id": "3fbc8e51-7dc2-41ad-b916-f6ae30fb4fe8",
   "metadata": {},
   "outputs": [],
   "source": [
    "def galactic_cutout(hdu, reg):\n",
    "    import reproject.mosaicking, reproject\n",
    "    csys, sz = reproject.mosaicking.find_optimal_celestial_wcs(hdu, frame='galactic')\n",
    "    newdata, _ = reproject.reproject_interp(input_data=hdu,\n",
    "                                            output_projection=csys,\n",
    "                                            shape_out=sz)\n",
    "    preg = reg.to_pixel(csys)\n",
    "    msk = preg.to_mask()\n",
    "    slcs,_ = msk.get_overlap_slices(newdata.shape)\n",
    "    new_hdu = fits.PrimaryHDU(data=newdata[slcs], header=csys[slcs].to_header())\n",
    "    return new_hdu, csys[slcs]"
   ]
  },
  {
   "cell_type": "markdown",
   "id": "df6ccf2d-a924-4bf8-8b7e-98eb43d02d8e",
   "metadata": {},
   "source": [
    "### Multipanel Image"
   ]
  },
  {
   "cell_type": "code",
   "execution_count": null,
   "id": "7cf6f0aa-6697-4526-802d-e0ded34aac85",
   "metadata": {},
   "outputs": [
    {
     "name": "stdout",
     "output_type": "stream",
     "text": [
      "2, 3, 4, 5, "
     ]
    }
   ],
   "source": [
    "pl.figure(figsize=(15,12), dpi=150)\n",
    "ii = 1\n",
    "for wl, fn in ims.items():\n",
    "    fh = fits.open(fn)\n",
    "    ww = WCS(fh[0].header).celestial\n",
    "    \n",
    "    msk = bigcircregion.to_pixel(ww).to_mask()\n",
    "    slcs, _ = msk.get_overlap_slices(fh[0].data.squeeze().shape)\n",
    "    co = msk.cutout(fh[0].data.squeeze())\n",
    "\n",
    "    hdu, ww = galactic_cutout((co, ww[slcs]), bigregion)\n",
    "    \n",
    "    ax = pl.subplot(3,4,ii, projection=ww)\n",
    "    ax.imshow(hdu.data, cmap=mymap)\n",
    "    ax.scatter_coord(coord, marker='o', facecolor='none', edgecolor='g', s=100)\n",
    "    #pl.xticks([])\n",
    "    #pl.yticks([])\n",
    "    #pl.xlabel(\"\")\n",
    "    #pl.ylabel(\"\")\n",
    "    lon = ax.coords[0]\n",
    "    lat = ax.coords[1]\n",
    "    if ii == 9:\n",
    "        lon.set_axislabel('Galactic Longitude')\n",
    "        lat.set_axislabel('Galactic Latitude')\n",
    "    else:\n",
    "        lon.set_ticks_visible(False)\n",
    "        lon.set_ticklabel_visible(False)\n",
    "        lat.set_ticks_visible(False)\n",
    "        lat.set_ticklabel_visible(False)\n",
    "        lon.set_axislabel('')\n",
    "        lat.set_axislabel('')\n",
    "    ax.set_title(wl.replace('u',r'$\\mu$'))\n",
    "    ii += 1\n",
    "    print(ii, end=\", \")\n",
    "\n",
    "pl.tight_layout()\n",
    "pl.savefig('/orange/adamginsburg/ACES/broadline_sources/G0.025-0.073/continuum_cutouts.pdf', bbox_inches='tight')\n",
    "pl.savefig('/orange/adamginsburg/ACES/broadline_sources/G0.025-0.073/continuum_cutouts.png', bbox_inches='tight')"
   ]
  },
  {
   "cell_type": "markdown",
   "id": "818256c8-2cf8-416e-95b6-77bf110d1d13",
   "metadata": {},
   "source": [
    "### Herschel upper limits"
   ]
  },
  {
   "cell_type": "code",
   "execution_count": null,
   "id": "d4f25c82-5a98-41cc-a68f-e56c515cadbf",
   "metadata": {},
   "outputs": [],
   "source": [
    "from radio_beam import Beam\n",
    "import radio_beam"
   ]
  },
  {
   "cell_type": "code",
   "execution_count": null,
   "id": "bcb27c7c-a5e3-4be0-872d-a3aa99a6d97a",
   "metadata": {},
   "outputs": [],
   "source": [
    "import latex_info"
   ]
  },
  {
   "cell_type": "code",
   "execution_count": null,
   "id": "d1a0f9fe-1721-4a09-afdf-825dfb750332",
   "metadata": {},
   "outputs": [],
   "source": [
    "from astropy.table import Table\n",
    "centrfittbl = Table.read('/orange/adamginsburg/ACES/broadline_sources/G0.025-0.073/centroid_fits.ecsv')\n",
    "centrfittbl.add_index('Image Data')\n",
    "centrfittbl.add_index('Image Type')\n",
    "b7r = centrfittbl.loc['Continuum'].loc['Image Type', 'B7']\n",
    "b3r = centrfittbl.loc['Continuum'].loc['Image Type', 'spw33+35']\n",
    "spectral_index = (\n",
    "    np.log(b7r['Amp[Jy]'] / b3r['Amp[Jy]']) /\n",
    "    np.log((350*u.GHz/(102*u.GHz)).decompose().value))\n",
    "spectral_index"
   ]
  },
  {
   "cell_type": "code",
   "execution_count": null,
   "id": "33d86891-0072-4010-b7a1-ad7f431223a8",
   "metadata": {},
   "outputs": [],
   "source": [
    "from astropy.table import Table\n",
    "centrfittbl = Table.read('/orange/adamginsburg/ACES/broadline_sources/G0.025-0.073/centroid_fits.ecsv')\n",
    "centrfittbl.add_index(['Image Data', 'Image Type'])"
   ]
  },
  {
   "cell_type": "code",
   "execution_count": null,
   "id": "daafdb42-4195-4adf-801c-2e82f4d928dc",
   "metadata": {},
   "outputs": [],
   "source": [
    "import glob\n",
    "from spectral_cube import SpectralCube"
   ]
  },
  {
   "cell_type": "code",
   "execution_count": null,
   "id": "0e69352f-b08a-4d44-9eec-21fded0afff6",
   "metadata": {},
   "outputs": [],
   "source": [
    "path = '/orange/adamginsburg/ACES/data/2021.1.00172.L/science_goal.uid___A001_X1590_X30a8/group.uid___A001_X1590_X30a9/member.uid___A001_X15a0_X13c/calibrated/working/'\n",
    "imgs = sorted(glob.glob(f\"{path}/*.cube.*.image\"))\n",
    "import warnings\n",
    "with warnings.catch_warnings():\n",
    "    warnings.simplefilter('ignore')\n",
    "    cubes = [SpectralCube.read(fn) for fn in imgs[:1]]\n",
    "try:\n",
    "    b3beam = cubes[0].beams.common_beam()\n",
    "except AttributeError:\n",
    "    b3beam = cubes[0].beam"
   ]
  },
  {
   "cell_type": "code",
   "execution_count": null,
   "id": "527e8a94-ef7e-441d-87ce-17785ac55f93",
   "metadata": {},
   "outputs": [],
   "source": [
    "fns_2017 = glob.glob(\"/orange/adamginsburg/ACES/ancillary/data/2017.1.01185.S/science_goal.uid___A001_X12a3_Xe7/group.uid___A001_X12a3_Xe8/member.uid___A001_X12a3_Xe9/calibrated/*cube*image.pbcor\")\n",
    "scubes2017 = [SpectralCube.read(fn, format='casa_image').subcube_from_regions([region]) for fn in fns_2017[:1]]\n",
    "b7beam = scubes2017[0].beam"
   ]
  },
  {
   "cell_type": "code",
   "execution_count": null,
   "id": "ea20d4c0-6f14-4a81-acb0-6ada6083188a",
   "metadata": {},
   "outputs": [],
   "source": [
    "centrfittbl"
   ]
  },
  {
   "cell_type": "code",
   "execution_count": null,
   "id": "ff6bbb69-5ec0-48f5-8f24-6cf3f711abb7",
   "metadata": {},
   "outputs": [],
   "source": [
    "from radio_beam import Beam\n",
    "import radio_beam\n",
    "from astropy.wcs import WCS"
   ]
  },
  {
   "cell_type": "code",
   "execution_count": null,
   "id": "b8344997-7f48-46a6-a46f-57f9d3cb788b",
   "metadata": {},
   "outputs": [],
   "source": [
    "herschelspitzer = {\n",
    "    #'3.6um': '/orange/adamginsburg/cmz/glimpse_data/GLM_00000+0000_mosaic_I1.fits',\n",
    "    #'4.5um': '/orange/adamginsburg/cmz/glimpse_data/GLM_00000+0000_mosaic_I2.fits',\n",
    "    #'5.8um': '/orange/adamginsburg/cmz/glimpse_data/GLM_00000+0000_mosaic_I3.fits',\n",
    "    #'8.0um': '/orange/adamginsburg/cmz/glimpse_data/GLM_00000+0000_mosaic_I4.fits',\n",
    "    # '3.6um': '/orange/adamginsburg/ACES/broadline_sources/G0.025-0.073/cutout_SPITZER_I1_13368832_0000_6_E8709676_maic.fits',\n",
    "    # '4.5um': '/orange/adamginsburg/ACES/broadline_sources/G0.025-0.073/cutout_SPITZER_I2_13368832_0000_6_E8709929_maic.fits',\n",
    "    # '5.8um': '/orange/adamginsburg/ACES/broadline_sources/G0.025-0.073/cutout_SPITZER_I3_13368832_0000_6_E8709933_maic.fits',\n",
    "    # '8.0um': '/orange/adamginsburg/ACES/broadline_sources/G0.025-0.073/cutout_SPITZER_I4_13368832_0000_6_E8709940_maic.fits',\n",
    "    '3.6um': '/orange/adamginsburg/ACES/broadline_sources/G0.025-0.073/SPITZER_stolovy_I1_13368832_0000_6_E8709676_maic.fits',\n",
    "    '4.5um': '/orange/adamginsburg/ACES/broadline_sources/G0.025-0.073/SPITZER_stolovy_I2_13368832_0000_6_E8709929_maic.fits',\n",
    "    '5.8um': '/orange/adamginsburg/ACES/broadline_sources/G0.025-0.073/SPITZER_stolovy_I3_13368832_0000_6_E8709933_maic.fits',\n",
    "    '8.0um': '/orange/adamginsburg/ACES/broadline_sources/G0.025-0.073/SPITZER_stolovy_I4_13368832_0000_6_E8709940_maic.fits',\n",
    "    '24um': '/orange/adamginsburg/cmz/mipsgal_24micron_data/gc_mosaic_MIPSGAL_gal.fits',\n",
    "    '70um': '/orange/adamginsburg/cmz/herschel/destripe_l000_blue_wgls_rcal.fits',\n",
    "    '160um': '/orange/adamginsburg/cmz/herschel/destripe_l000_red_wgls_rcal.fits',\n",
    "    '250um': '/orange/adamginsburg/cmz/herschel/destripe_l000_PSW_wgls_rcal.fits',\n",
    "    '350um': '/orange/adamginsburg/cmz/herschel/destripe_l000_PMW_wgls_rcal.fits',\n",
    "    '500um': '/orange/adamginsburg/cmz/herschel/destripe_l000_PLW_wgls_rcal.fits',\n",
    "    #'450um': '/orange/adamginsburg/cmz/scuba2/450um_map.fits',\n",
    "    #'850um': '/orange/adamginsburg/cmz/scuba2/850um_map.fits',\n",
    "    '60000um': '/orange/adamginsburg/cmz/xinglu/SgrA_CONT_tclean_nterm2.image.tt0.fits',\n",
    "    '200000um': '/orange/adamginsburg/cmz/meerkat/MeerKAT_Galactic_Centre_1284MHz-StokesI.fits'\n",
    "}\n",
    "# beams from Traficante+ 2011 (Except Spitzer)\n",
    "herschelspitzer_resolution = {\n",
    "    '3.6um': Beam(2*u.arcsec),\n",
    "    '4.5um': Beam(2*u.arcsec),\n",
    "    '5.8um': Beam(2*u.arcsec),\n",
    "    '8.0um': Beam(2*u.arcsec),\n",
    "    '24um': Beam(6*u.arcsec),\n",
    "    '70um': Beam(10.7*u.arcsec, 9.7*u.arcsec),\n",
    "    '160um': Beam(13.9*u.arcsec, 13.2*u.arcsec),\n",
    "    '250um': Beam(23.9*u.arcsec, 22.8*u.arcsec),\n",
    "    '350um': Beam(31.3*u.arcsec, 29.3*u.arcsec),\n",
    "    '500um': Beam(43.8*u.arcsec, 41.1*u.arcsec),\n",
    "    '450um': Beam(6.5*u.arcsec),\n",
    "    '850um': Beam(12*u.arcsec),\n",
    "    '60000um': radio_beam.Beam.from_fits_header(fits.getheader('/orange/adamginsburg/cmz/xinglu/SgrA_CONT_tclean_nterm2.image.tt0.fits')),\n",
    "    '200000um': radio_beam.Beam.from_fits_header(fits.getheader('/orange/adamginsburg/cmz/meerkat/MeerKAT_Galactic_Centre_1284MHz-StokesI.fits'))\n",
    "}\n",
    "\n",
    "latexdict_ulim = latex_info.latexdict.copy()\n",
    "latexdict_ulim['header_start'] = r'\\label{tab:sed}'\n",
    "latexdict_ulim['caption'] = 'Spectral Energy Distribution'\n",
    "latexdict_ulim['preamble'] = r'\\centering'\n",
    "latexdict_ulim['tablefoot'] = '\\par\\n' + r'Except for the ALMA measurements at 3 mm and 850 \\um, these values are upper limits.'\n",
    "formats = {'Wavelength': '0.1f',\n",
    "           'Surface Brightness': '0.3f',\n",
    "           'Beam Area': '0.3e',\n",
    "           'Flux': '0.3g'\n",
    "          }\n",
    "\n",
    "ulimtbl = []\n",
    "\n",
    "for wl, fn in herschelspitzer.items():\n",
    "    fh = fits.open(fn)\n",
    "    ww = WCS(fh[0].header).celestial\n",
    "    xx, yy = np.array(list(map(int, ww.world_to_pixel(coord))))\n",
    "    #print(crd)\n",
    "    val = fh[0].data[yy, xx]\n",
    "    if u.Quantity(wl) < 1*u.mm:\n",
    "        print(wl, val, (u.Quantity(val, u.MJy/u.sr)*herschelspitzer_resolution[wl].sr).to(u.Jy))\n",
    "        ulimtbl.append((u.Quantity(wl.strip('um'), u.um), val*u.MJy/u.sr,\n",
    "                        herschelspitzer_resolution[wl].sr,\n",
    "                        (u.Quantity(val, u.MJy/u.sr)*herschelspitzer_resolution[wl].sr).to(u.Jy)))\n",
    "    else:\n",
    "        beam = herschelspitzer_resolution[wl]\n",
    "        print(wl, ((u.Quantity(val, u.Jy))/beam.sr).to(u.MJy/u.sr), (u.Quantity(val, u.Jy)), )\n",
    "              \n",
    "        ulimtbl.append([u.Quantity(wl.strip('um'), u.um),\n",
    "                        val*u.Jy/beam.sr,\n",
    "                        beam.sr,\n",
    "                        u.Quantity(val, u.Jy)])\n",
    "\n",
    "b7ind = (centrfittbl['Image Data'] == 'Continuum') & (centrfittbl['Image Type'] == 'B7')\n",
    "b3ind = (centrfittbl['Image Data'] == 'Continuum') & (centrfittbl['Image Type'] == 'spw33+35')\n",
    "\n",
    "assert centrfittbl[b7ind]['Amp[Jy]'][0]*u.Jy > 90*u.mJy\n",
    "\n",
    "ulimtbl.append([850*u.um,\n",
    "                centrfittbl[b7ind]['Amp[Jy]'][0]*u.Jy/b7beam.sr,\n",
    "                b7beam.sr,\n",
    "                centrfittbl[b7ind]['Amp[Jy]'][0]*u.Jy])\n",
    "ulimtbl.append([(102*u.GHz).to(u.um, u.spectral()), \n",
    "                centrfittbl[b3ind]['Amp[Jy]'][0]*u.Jy/b3beam.sr,\n",
    "                b3beam.sr,\n",
    "                centrfittbl[b3ind]['Amp[Jy]'][0]*u.Jy])\n",
    "\n",
    "# SMA data 4/19/2024\n",
    "b6bm = radio_beam.Beam(3*u.arcsec) # GUESS\n",
    "ulimtbl.append([(230*u.GHz).to(u.um, u.spectral()), \n",
    "                16.6*u.mJy/b6bm.sr,\n",
    "                b6bm,\n",
    "                16.6*u.mJy])\n",
    "    \n",
    "ulimtbl = Table(rows=ulimtbl, names=['Wavelength', 'Surface Brightness', \n",
    "                                     'Beam Area',\n",
    "                                     'Flux'])\n",
    "ulimtbl.sort('Wavelength')\n",
    "ulimtbl.write('/orange/adamginsburg/ACES/broadline_sources/G0.025-0.073/SED.tex',\n",
    "              latexdict=latexdict_ulim,\n",
    "              formats=formats,\n",
    "              overwrite=True)\n",
    "ulimtbl"
   ]
  },
  {
   "cell_type": "code",
   "execution_count": null,
   "id": "fc9a3832-7fe4-421f-a08e-b2281dac40cc",
   "metadata": {},
   "outputs": [],
   "source": [
    "from astropy.modeling.models import BlackBody\n",
    "import dust_emissivity"
   ]
  },
  {
   "cell_type": "code",
   "execution_count": null,
   "id": "500af71f-046c-43d7-9b97-101e1a729de7",
   "metadata": {},
   "outputs": [],
   "source": [
    "ulwl = ulimtbl['Wavelength']\n",
    "pl.plot(ulwl[ulwl < 800*u.um], ulimtbl['Flux'][ulwl < 800*u.um], 'v', markerfacecolor='none', markeredgecolor='k')\n",
    "pl.plot(ulwl[ulwl > 1*u.cm], ulimtbl['Flux'][ulwl > 1*u.cm], 'v', markerfacecolor='none', markeredgecolor='k')\n",
    "pl.plot((102*u.GHz).to(u.um, u.spectral()), centrfittbl['Amp[Jy]'][b3ind], 's', markeredgecolor='k', markerfacecolor='b')\n",
    "pl.plot(850*u.um, centrfittbl['Amp[Jy]'][b7ind], 's', markeredgecolor='k', markerfacecolor='b')\n",
    "nurange = np.geomspace(10*u.GHz, 100*u.THz, 1000)\n",
    "beta = 1.5\n",
    "for tem, ls in zip((15, 25, 50, 75), ('-', '--', '-.', ':')):\n",
    "    bm = b3beam.sr\n",
    "    column = dust_emissivity.dust.colofsnu(nu=102*u.GHz,\n",
    "                                           snu_per_beam=u.Quantity(b3r['Amp[Jy]'], u.Jy)/bm,\n",
    "                                           beta=beta,\n",
    "                                           nu0=271.1*u.GHz, \n",
    "                                           kappa0=0.0114*u.cm**2*u.g**-1,\n",
    "                                           temperature=tem*u.K)\n",
    "    mbb = dust_emissivity.blackbody.modified_blackbody(nurange,\n",
    "                                                       temperature=tem*u.K,\n",
    "                                                       beta=beta,\n",
    "                                                       nu0=271.1*u.GHz, \n",
    "                                                       kappa0=0.0114*u.cm**2*u.g**-1*100,\n",
    "                                                       column=column,\n",
    "                                                      ).to(u.Jy/u.sr)*bm\n",
    "    pl.plot(nurange.to(u.um, u.spectral()), mbb.to(u.Jy), linestyle=ls, zorder=-5, label=f'T={tem}\\nN={column.value:0.1e}')\n",
    "pl.loglog();\n",
    "pl.axis([1,1e5,5e-4,300]);\n",
    "pl.legend(loc='best',);\n",
    "pl.xlabel(\"Wavelength [$\\mu$m]\")\n",
    "pl.ylabel(\"Flux Density $S_\\\\nu$ [Jy]\")\n",
    "pl.savefig('/orange/adamginsburg/ACES/broadline_sources/G0.025-0.073/SED_with_upperlimits.pdf', bbox_inches='tight')\n",
    "pl.savefig('/orange/adamginsburg/ACES/broadline_sources/G0.025-0.073/SED_with_upperlimits.png', bbox_inches='tight')\n",
    "pl.axis([1,3e5,1e-5,300]);\n",
    "pl.savefig('/orange/adamginsburg/ACES/broadline_sources/G0.025-0.073/SED_with_upperlimits_VLA.pdf', bbox_inches='tight')\n",
    "pl.savefig('/orange/adamginsburg/ACES/broadline_sources/G0.025-0.073/SED_with_upperlimits_VLA.png', bbox_inches='tight')\n",
    "pl.plot((230*u.GHz).to(u.um, u.spectral()), (26.0*u.mJy).to(u.Jy), 's', markeredgecolor='k', markerfacecolor='r')\n",
    "pl.savefig('/orange/adamginsburg/ACES/broadline_sources/G0.025-0.073/SED_with_upperlimits_VLA_SMA.png', bbox_inches='tight')\n",
    "pl.savefig('/orange/adamginsburg/ACES/broadline_sources/G0.025-0.073/SED_with_upperlimits_VLA_SMA.pdf', bbox_inches='tight')"
   ]
  },
  {
   "cell_type": "code",
   "execution_count": null,
   "id": "35cc86e8-46da-4477-87fc-4a80db1a38d8",
   "metadata": {},
   "outputs": [],
   "source": [
    "from mpl_toolkits.axes_grid1.inset_locator import inset_axes, mark_inset"
   ]
  },
  {
   "cell_type": "code",
   "execution_count": null,
   "id": "ace49c9f-3aa0-47c9-9c5b-7fa6736b64ae",
   "metadata": {},
   "outputs": [],
   "source": [
    "ax = pl.subplot()\n",
    "# inset axes....\n",
    "x1, x2, y1, y2 = 400, 500, 2.5e-1, 1.5  # subregion of the original image\n",
    "\n",
    "\n",
    "ulwl = ulimtbl['Wavelength']\n",
    "ax.plot(ulwl[ulwl < 800*u.um], ulimtbl['Flux'][ulwl < 800*u.um], 'v', markerfacecolor='none', markeredgecolor='k')\n",
    "ax.plot(ulwl[ulwl > 1*u.cm], ulimtbl['Flux'][ulwl > 1*u.cm], 'v', markerfacecolor='none', markeredgecolor='k')\n",
    "ax.plot((102*u.GHz).to(u.um, u.spectral()), centrfittbl['Amp[Jy]'][b3ind], 's', markeredgecolor='k', markerfacecolor='b')\n",
    "ax.plot(850*u.um, centrfittbl['Amp[Jy]'][b7ind], 's', markeredgecolor='k', markerfacecolor='b')\n",
    "\n",
    "axins = ax.inset_axes(\n",
    "    [0.35, 0.1, 0.20, 0.25],\n",
    "    xlim=(x1, x2), ylim=(y1, y2),\n",
    "    #xticklabels=[], yticklabels=[]\n",
    ")\n",
    "\n",
    "nurange = np.geomspace(10*u.GHz, 100*u.THz, 1000)\n",
    "beta = 1.5\n",
    "for tem, ls in zip((15, 25, 50, 75), ('-', '--', '-.', ':')):\n",
    "    bm = b3beam.sr\n",
    "    column = dust_emissivity.dust.colofsnu(nu=102*u.GHz,\n",
    "                                           snu_per_beam=u.Quantity(b3r['Amp[Jy]'], u.Jy)/bm,\n",
    "                                           beta=beta,\n",
    "                                           nu0=271.1*u.GHz, \n",
    "                                           kappa0=0.0114*u.cm**2*u.g**-1,\n",
    "                                           temperature=tem*u.K)\n",
    "    mbb = dust_emissivity.blackbody.modified_blackbody(nurange,\n",
    "                                                       temperature=tem*u.K,\n",
    "                                                       beta=beta,\n",
    "                                                       nu0=271.1*u.GHz, \n",
    "                                                       kappa0=0.0114*u.cm**2*u.g**-1*100,\n",
    "                                                       column=column,\n",
    "                                                      ).to(u.Jy/u.sr)*bm\n",
    "    L, = ax.plot(nurange.to(u.um, u.spectral()), mbb.to(u.Jy), linestyle=ls, zorder=-5, label=f'T={tem}\\nN={column.value:0.1e}')\n",
    "    axins.plot(nurange.to(u.um, u.spectral()), mbb.to(u.Jy), linestyle=ls, zorder=-5, \n",
    "               color=L.get_color(),\n",
    "               label=f'T={tem}\\nN={column.value:0.1e}')\n",
    "\n",
    "\n",
    "#ax.indicate_inset_zoom(axins, edgecolor=\"black\", )\n",
    "blah = mark_inset(ax, axins, loc1=1, loc2=2)\n",
    "\n",
    "ax.loglog();\n",
    "ax.axis([1,1e5,5e-4,300]);\n",
    "pl.legend(loc='best',);\n",
    "ax.set_xlabel(\"Wavelength [$\\mu$m]\")\n",
    "ax.set_ylabel(\"Flux Density $S_\\\\nu$ [Jy]\")\n",
    "# pl.savefig('/orange/adamginsburg/ACES/broadline_sources/G0.025-0.073/SED_with_upperlimits.pdf', bbox_inches='tight')\n",
    "# pl.savefig('/orange/adamginsburg/ACES/broadline_sources/G0.025-0.073/SED_with_upperlimits.png', bbox_inches='tight')\n",
    "ax.axis([1,3e5,1e-5,300]);\n",
    "# pl.savefig('/orange/adamginsburg/ACES/broadline_sources/G0.025-0.073/SED_with_upperlimits_VLA.pdf', bbox_inches='tight')\n",
    "# pl.savefig('/orange/adamginsburg/ACES/broadline_sources/G0.025-0.073/SED_with_upperlimits_VLA.png', bbox_inches='tight')\n",
    "ax.plot((230*u.GHz).to(u.um, u.spectral()), (26.0*u.mJy).to(u.Jy), 's', markeredgecolor='k', markerfacecolor='r')\n",
    "# pl.savefig('/orange/adamginsburg/ACES/broadline_sources/G0.025-0.073/SED_with_upperlimits_VLA_SMA.pdf', bbox_inches='tight')\n",
    "# pl.savefig('/orange/adamginsburg/ACES/broadline_sources/G0.025-0.073/SED_with_upperlimits_VLA_SMA.png', bbox_inches='tight')\n",
    "\n",
    "#axins.loglog()\n",
    "axins.semilogx()\n",
    "\n",
    "# logscale: hide ticks\n",
    "# holy fucking hackery.  This took absolutely forever to come up with.\n",
    "axins.yaxis.set_minor_formatter(lambda x, y: \"\")\n",
    "axins.xaxis.set_minor_formatter(lambda x, y: \"\")\n",
    "axins.yaxis.set_major_formatter(lambda x, y: \"\")\n",
    "axins.xaxis.set_major_formatter(lambda x, y: \"\")\n",
    "\n",
    "pl.savefig('/orange/adamginsburg/ACES/broadline_sources/G0.025-0.073/SED_with_planned_B9.pdf', bbox_inches='tight')\n",
    "pl.savefig('/orange/adamginsburg/ACES/broadline_sources/G0.025-0.073/SED_with_planned_B9.png', bbox_inches='tight')"
   ]
  },
  {
   "cell_type": "code",
   "execution_count": null,
   "id": "b75e16d2-9ee8-43ef-b55e-f36e6d146bbb",
   "metadata": {},
   "outputs": [],
   "source": [
    "axins.yaxis.get_major_formatter()"
   ]
  },
  {
   "cell_type": "code",
   "execution_count": null,
   "id": "3bd7acaa-41c2-496a-a10f-28b1fc107fd8",
   "metadata": {},
   "outputs": [],
   "source": []
  },
  {
   "cell_type": "code",
   "execution_count": null,
   "id": "e75b031d-6c8a-4b81-a63c-047159969dc5",
   "metadata": {},
   "outputs": [],
   "source": []
  },
  {
   "cell_type": "markdown",
   "id": "ab191b20-67ae-4bf7-b34b-4bfb2eda96e8",
   "metadata": {},
   "source": [
    "### Chandra "
   ]
  },
  {
   "cell_type": "code",
   "execution_count": null,
   "id": "a2a5397f-3eb0-4362-ac20-018a64fcf6a1",
   "metadata": {},
   "outputs": [],
   "source": [
    "pl.figure(figsize=(12,8), dpi=150)\n",
    "ii = 1\n",
    "for fn in glob.glob('/orange/adamginsburg/cmz/chandra/sgra/acis*fits'):\n",
    "    fh = fits.open(fn)\n",
    "    ww = WCS(fh[0].header).celestial\n",
    "    msk = bigregion.to_pixel(ww).to_mask()\n",
    "    slcs, _ = msk.get_overlap_slices(fh[0].data.squeeze().shape)\n",
    "    co = msk.cutout(fh[0].data.squeeze())\n",
    "    ax = pl.subplot(2,3,ii, projection=ww[slcs])\n",
    "    ax.imshow(co, cmap=mymap)\n",
    "    ax.scatter_coord(coord, marker='o', facecolor='none', edgecolor='g', s=100)\n",
    "\n",
    "    lon = ax.coords[0]\n",
    "    lat = ax.coords[1]\n",
    "    lon.set_ticks_visible(False)\n",
    "    lon.set_ticklabel_visible(False)\n",
    "    lat.set_ticks_visible(False)\n",
    "    lat.set_ticklabel_visible(False)\n",
    "    lon.set_axislabel('')\n",
    "    lat.set_axislabel('')\n",
    "    ii += 1\n",
    "\n",
    "pl.tight_layout()\n",
    "pl.savefig('/orange/adamginsburg/ACES/broadline_sources/G0.025-0.073/chandra_overlays.pdf', bbox_inches='tight')\n",
    "pl.savefig('/orange/adamginsburg/ACES/broadline_sources/G0.025-0.073/chandra_overlays.png', bbox_inches='tight')"
   ]
  },
  {
   "cell_type": "code",
   "execution_count": null,
   "id": "2f7a79b4-ff8c-42cb-bebe-8a5efdd1281d",
   "metadata": {},
   "outputs": [],
   "source": [
    "%%bash\n",
    "ls /orange/adamginsburg/ACES/data/2021.1.00172.L/science_goal.uid___A001_X1590_X30a8/group.uid___A001_X1590_X30a9/member.uid___A001_X15a0_X13c/calibrated/working/*spw33_35*.image.tt0.pbcor.fits"
   ]
  },
  {
   "cell_type": "code",
   "execution_count": null,
   "id": "251a9b22-cb9c-419b-976e-fd7ea2a04948",
   "metadata": {},
   "outputs": [],
   "source": [
    "fn = \"/orange/adamginsburg/ACES/data/2021.1.00172.L/science_goal.uid___A001_X1590_X30a8/group.uid___A001_X1590_X30a9/member.uid___A001_X15a0_X13c/calibrated/working/uid___A001_X15a0_X13c.s36_0.Sgr_A_star_sci.spw33_35.cont.I.iter1.image.tt0.pbcor.fits\"\n",
    "if not os.path.exists(fn):\n",
    "    fn = \"/orange/adamginsburg/ACES/data/2021.1.00172.L/science_goal.uid___A001_X1590_X30a8/group.uid___A001_X1590_X30a9/member.uid___A001_X15a0_X13c/calibrated/working/uid___A001_X15a0_X13c.s36_0.Sgr_A_star_sci.oldhigh_spw33_35.cont.I.iter1.image.tt0.pbcor.fits\"\n",
    "if not os.path.exists(fn):\n",
    "    fn = \"/orange/adamginsburg/ACES/data/2021.1.00172.L/science_goal.uid___A001_X1590_X30a8/group.uid___A001_X1590_X30a9/member.uid___A001_X15a0_X13c/calibrated/working/uid___A001_X15a0_X13c.s36_0.Sgr_A_star_sci.v1high_spw33_35.cont.I.iter1.image.tt0.pbcor.fits\"\n",
    "contcube = SpectralCube.read(fn)\n",
    "fh = fits.open(fn)\n",
    "contwcs = WCS(fh[0].header).celestial\n",
    "preg = region.to_pixel(contwcs)\n",
    "msk = preg.to_mask()\n",
    "contim = msk.cutout(fh[0].data.squeeze());\n",
    "beam = radio_beam.Beam.from_fits_header(fh[0].header)\n",
    "jtok = beam.jtok(102*u.GHz).value\n",
    "contim = contim * jtok\n",
    "slcs,_ = msk.get_overlap_slices(fh[0].data.squeeze().shape)\n",
    "contwcs_co = contwcs[slcs] "
   ]
  },
  {
   "cell_type": "code",
   "execution_count": null,
   "id": "73df1a0a-b38b-42bb-818a-d436302ed068",
   "metadata": {},
   "outputs": [],
   "source": [
    "pl.figure(figsize=(12,8), dpi=150)\n",
    "fn = '/orange/adamginsburg/ACES/broadline_sources/G0.025-0.073/acisi-band3-4.fits'\n",
    "fh = fits.open(fn)\n",
    "ww = WCS(fh[0].header).celestial\n",
    "msk = bigregion.to_pixel(ww).to_mask()\n",
    "slcs, _ = msk.get_overlap_slices(fh[0].data.squeeze().shape)\n",
    "co = msk.cutout(fh[0].data.squeeze())\n",
    "ax = pl.subplot(1,1,1, projection=ww[slcs])\n",
    "ax.imshow(co, cmap=mymap)\n",
    "ax.scatter_coord(coord, marker='o', facecolor='none', edgecolor='g', s=100)\n",
    "ax.contour(contim, transform=ax.get_transform(contwcs_co),\n",
    "           levels=[0.04,  0.08, ]);\n",
    "\n",
    "fhmk = fits.open(ims['20cm'])\n",
    "ww2 = WCS(fhmk[0].header).celestial\n",
    "msk = biggerregion.to_pixel(ww2).to_mask()\n",
    "slcs, _ = msk.get_overlap_slices(fhmk[0].data.squeeze().shape)\n",
    "co = msk.cutout(fhmk[0].data.squeeze())\n",
    "\n",
    "\n",
    "lon = ax.coords[0]\n",
    "lat = ax.coords[1]\n",
    "#lon.set_ticks_visible(False)\n",
    "#lon.set_ticklabel_visible(False)\n",
    "#lat.set_ticks_visible(False)\n",
    "#lat.set_ticklabel_visible(False)\n",
    "lon.set_axislabel('Galactic Longitude')\n",
    "lat.set_axislabel('Galactic Latitude')\n",
    "\n",
    "pl.tight_layout()\n",
    "pl.savefig('/orange/adamginsburg/ACES/broadline_sources/G0.025-0.073/chandra_dwang_overlay.pdf', bbox_inches='tight')\n",
    "pl.savefig('/orange/adamginsburg/ACES/broadline_sources/G0.025-0.073/chandra_dwang_overlay.png', bbox_inches='tight')\n",
    "ax.contour(co, transform=ax.get_transform(ww2[slcs]), levels=np.linspace(0.005, 0.0068, 6), cmap=pl.cm.Blues)\n",
    "pl.savefig('/orange/adamginsburg/ACES/broadline_sources/G0.025-0.073/chandra_dwang_overlay_withMEERKAT.pdf', bbox_inches='tight')\n",
    "pl.savefig('/orange/adamginsburg/ACES/broadline_sources/G0.025-0.073/chandra_dwang_overlay_withMEERKAT.png', bbox_inches='tight')"
   ]
  },
  {
   "cell_type": "markdown",
   "id": "e0f9368e-5d24-48b6-b6aa-fcc46c72b570",
   "metadata": {},
   "source": [
    "# Context Images"
   ]
  },
  {
   "cell_type": "markdown",
   "id": "9af70c49-6113-4394-bfa7-fde449aaab4e",
   "metadata": {},
   "source": [
    "## CO Context Image\n",
    "\n",
    "courtesy sofue"
   ]
  },
  {
   "cell_type": "code",
   "execution_count": null,
   "id": "8c09371c-73ea-4754-b4c4-f9eb253eb8ca",
   "metadata": {},
   "outputs": [],
   "source": [
    "cloudreg = regions.RectangleSkyRegion(coord.galactic, 15*u.arcmin, 15*u.arcmin)\n",
    "cocube = SpectralCube.read('/orange/adamginsburg/cmz/nobeyama/12CO-2.BEARS.FITS', format='fits').subcube_from_regions([cloudreg])\n",
    "cocube"
   ]
  },
  {
   "cell_type": "raw",
   "id": "4e0615c0-7312-458f-a40b-90bf0b26956d",
   "metadata": {},
   "source": [
    "# this didn't work\n",
    "colors1b = pl.cm.gray_r(np.linspace(0., 1, 148))\n",
    "colors2b = pl.cm.Blues_r(np.linspace(0, 1, 148))\n",
    "colors3b = (colors1b[-20:] + colors2b[:20])/2\n",
    "\n",
    "colorsb = np.vstack((colors1b[:118], colors3b, colors2b[10:]))\n",
    "mymap_blue = mcolors.LinearSegmentedColormap.from_list('my_colormap', colorsb)"
   ]
  },
  {
   "cell_type": "code",
   "execution_count": null,
   "id": "0109a595-e8fc-4a60-98c2-2ce834185044",
   "metadata": {},
   "outputs": [],
   "source": [
    "cobearsm0 = cocube.spectral_slab(45*u.km/u.s, 55*u.km/u.s).moment0()\n",
    "ax = pl.subplot(projection=cobearsm0.wcs.celestial)\n",
    "im_ = ax.imshow(cobearsm0.value, cmap=mymap)\n",
    "ax.contour(contim, transform=ax.get_transform(contwcs_co),\n",
    "           levels=[0.04,  0.08, ],\n",
    "           colors=['cyan', 'cyan'],\n",
    "          );\n",
    "xx, yy = cobearsm0.wcs.celestial.world_to_pixel(coord)\n",
    "#ax.arrow(xx, yy-20, 0, 15, color='b', width=1)\n",
    "cb = pl.colorbar(mappable=im_)\n",
    "cb.set_label(\"Integrated Intensity [K km s$^{-1}$]\")\n",
    "ax.set_xlabel(\"Galactic Longitude\")\n",
    "ax.set_ylabel(\"Galactic Latitude\")\n",
    "pl.savefig('/orange/adamginsburg/ACES/broadline_sources/G0.025-0.073/12COContext.pdf', bbox_inches='tight')\n",
    "pl.savefig('/orange/adamginsburg/ACES/broadline_sources/G0.025-0.073/12COContext.png', bbox_inches='tight')"
   ]
  },
  {
   "cell_type": "code",
   "execution_count": null,
   "id": "d7fdfaa2-a8cc-4d62-9010-8ea06f6d514a",
   "metadata": {},
   "outputs": [],
   "source": [
    "cobearsm0 = cocube.moment0()\n",
    "ax = pl.subplot(projection=cobearsm0.wcs.celestial)\n",
    "im_ = ax.imshow(cobearsm0.value, cmap=mymap)\n",
    "ax.contour(contim, transform=ax.get_transform(contwcs_co),\n",
    "           levels=[0.04,  0.08, ],\n",
    "           colors=['cyan', 'cyan'],\n",
    "          );\n",
    "xx, yy = cobearsm0.wcs.celestial.world_to_pixel(coord)\n",
    "#ax.arrow(xx, yy-20, 0, 15, color='b', width=1)\n",
    "cb = pl.colorbar(mappable=im_)\n",
    "cb.set_label(\"Integrated Intensity [K km s$^{-1}$]\")\n",
    "ax.set_xlabel(\"Galactic Longitude\")\n",
    "ax.set_ylabel(\"Galactic Latitude\")\n",
    "pl.savefig('/orange/adamginsburg/ACES/broadline_sources/G0.025-0.073/12COContext_AllVelo.pdf', bbox_inches='tight')\n",
    "pl.savefig('/orange/adamginsburg/ACES/broadline_sources/G0.025-0.073/12COContext_AllVelo.png', bbox_inches='tight')"
   ]
  },
  {
   "cell_type": "markdown",
   "id": "dd9e399b-7e67-4d28-bf16-38331366b0ff",
   "metadata": {},
   "source": [
    "## TP"
   ]
  },
  {
   "cell_type": "code",
   "execution_count": null,
   "id": "8bcf7d67-4d19-455c-831d-4904d142ac18",
   "metadata": {},
   "outputs": [],
   "source": [
    "cube = SpectralCube.read('/orange/adamginsburg/ACES/mosaics/cubes/ACES_TP_spw25_mosaic.fits')\n",
    "cube.allow_huge_operations = True\n",
    "cs_tp = cube.with_spectral_unit(u.km/u.s, rest_value=97.98095*u.GHz, velocity_convention='radio').spectral_slab(-300*u.km/u.s, 300*u.km/u.s)\n",
    "so_tp = cube.with_spectral_unit(u.km/u.s, rest_value=99.29987*u.GHz, velocity_convention='radio').spectral_slab(-300*u.km/u.s, 300*u.km/u.s)\n",
    "m0cs = cs_tp.to(u.K).moment0(axis=0)\n",
    "m0so = so_tp.to(u.K).moment0(axis=0)"
   ]
  },
  {
   "cell_type": "code",
   "execution_count": null,
   "id": "9d4daf11-c54e-4c86-9aa4-9b1772f9b4ac",
   "metadata": {},
   "outputs": [],
   "source": [
    "cs_tpm0 = cs_tp.subcube_from_regions([cloudreg]).moment0()\n",
    "ax = pl.subplot(projection=cs_tpm0.wcs.celestial)\n",
    "im_ = ax.imshow(cs_tpm0.value, cmap=mymap)\n",
    "ax.contour(contim, transform=ax.get_transform(contwcs_co),\n",
    "           levels=[0.04,  0.08, ],\n",
    "           colors=['cyan', 'cyan'],\n",
    "          );\n",
    "xx, yy = cs_tpm0.wcs.celestial.world_to_pixel(coord)\n",
    "#ax.arrow(xx, yy-20, 0, 15, color='b', width=1)\n",
    "cb = pl.colorbar(mappable=im_)\n",
    "cb.set_label(\"Integrated Intensity [K km s$^{-1}$]\")\n",
    "ax.set_xlabel(\"Galactic Longitude\")\n",
    "ax.set_ylabel(\"Galactic Latitude\")\n",
    "pl.savefig('/orange/adamginsburg/ACES/broadline_sources/G0.025-0.073/CS21TPContext_AllVelo.pdf', bbox_inches='tight')\n",
    "pl.savefig('/orange/adamginsburg/ACES/broadline_sources/G0.025-0.073/CS21TPContext_AllVelo.png', bbox_inches='tight')"
   ]
  },
  {
   "cell_type": "code",
   "execution_count": null,
   "id": "50da2014-9c95-48fc-a7c4-34bc276aefc3",
   "metadata": {},
   "outputs": [],
   "source": [
    "cs_tpm0 = cs_tp.subcube_from_regions([cloudreg]).spectral_slab(45*u.km/u.s, 55*u.km/u.s).moment0()\n",
    "ax = pl.subplot(projection=cs_tpm0.wcs.celestial)\n",
    "im_ = ax.imshow(cs_tpm0.value, cmap=mymap)\n",
    "ax.contour(contim, transform=ax.get_transform(contwcs_co),\n",
    "           levels=[0.04,  0.08, ],\n",
    "           colors=['cyan', 'cyan'],\n",
    "          );\n",
    "xx, yy = cs_tpm0.wcs.celestial.world_to_pixel(coord)\n",
    "#ax.arrow(xx, yy-20, 0, 15, color='b', width=1)\n",
    "cb = pl.colorbar(mappable=im_)\n",
    "cb.set_label(\"Integrated Intensity [K km s$^{-1}$]\")\n",
    "ax.set_xlabel(\"Galactic Longitude\")\n",
    "ax.set_ylabel(\"Galactic Latitude\")\n",
    "pl.savefig('/orange/adamginsburg/ACES/broadline_sources/G0.025-0.073/CS21TPContext_45to55kms.pdf', bbox_inches='tight')\n",
    "pl.savefig('/orange/adamginsburg/ACES/broadline_sources/G0.025-0.073/CS21TPContext_45to55kms.png', bbox_inches='tight')"
   ]
  },
  {
   "cell_type": "code",
   "execution_count": null,
   "id": "0440bb51-698a-4cb8-b0f9-ba9ee2dc0998",
   "metadata": {},
   "outputs": [],
   "source": [
    "so_tpm0 = so_tp.subcube_from_regions([cloudreg]).spectral_slab(45*u.km/u.s, 55*u.km/u.s).moment0()\n",
    "ax = pl.subplot(projection=so_tpm0.wcs.celestial)\n",
    "im_ = ax.imshow(so_tpm0.value, cmap=mymap)\n",
    "ax.contour(contim, transform=ax.get_transform(contwcs_co),\n",
    "           levels=[0.04,  0.08, ],\n",
    "           colors=['cyan', 'cyan'],\n",
    "          );\n",
    "xx, yy = so_tpm0.wcs.celestial.world_to_pixel(coord)\n",
    "#ax.arrow(xx, yy-20, 0, 15, color='b', width=1)\n",
    "cb = pl.colorbar(mappable=im_)\n",
    "cb.set_label(\"Integrated Intensity [K km s$^{-1}$]\")\n",
    "ax.set_xlabel(\"Galactic Longitude\")\n",
    "ax.set_ylabel(\"Galactic Latitude\")\n",
    "pl.savefig('/orange/adamginsburg/ACES/broadline_sources/G0.025-0.073/SO21TPContext_45to55kms.pdf', bbox_inches='tight')\n",
    "pl.savefig('/orange/adamginsburg/ACES/broadline_sources/G0.025-0.073/SO21TPContext_45to55kms.png', bbox_inches='tight')"
   ]
  },
  {
   "cell_type": "markdown",
   "id": "97502899-a647-4b52-b4a8-a0c351dd367d",
   "metadata": {},
   "source": [
    "## Mustang"
   ]
  },
  {
   "cell_type": "code",
   "execution_count": null,
   "id": "30fc0275-00ef-459e-8b00-1a4bf04fe4be",
   "metadata": {},
   "outputs": [],
   "source": [
    "fhmustang = fits.open('/orange/adamginsburg/ACES/mosaics/continuum/12m_continuum_commonbeam_circular_reimaged_mosaic_MUSTANGfeathered.fits')\n",
    "wwmustang = WCS(fhmustang[0].header)\n",
    "cloudmask = cloudreg.to_pixel(wwmustang).to_mask()\n",
    "slcs,_ = cloudmask.get_overlap_slices(fhmustang[0].data.squeeze().shape)\n",
    "mustangcld = cloudmask.cutout(fhmustang[0].data)\n",
    "ax = pl.subplot(projection=wwmustang[slcs])\n",
    "im_ = ax.imshow(mustangcld, cmap=mymap, norm=simple_norm(mustangcld, max_percent=99.95, min_percent=1, stretch='asinh'))\n",
    "ax.contour(contim, transform=ax.get_transform(contwcs_co),\n",
    "           levels=[0.04,  0.08, ],\n",
    "           colors=['cyan', 'cyan'],\n",
    "          );\n",
    "cb = pl.colorbar(mappable = im_)\n",
    "cb.set_label(\"S$_{3 \\mathrm{mm}}$ [Jy beam$^{-1}$]\")\n",
    "ax.set_xlabel(\"Galactic Longitude\")\n",
    "ax.set_ylabel(\"Galactic Latitude\")\n",
    "\n",
    "slcs_inset,_ = bigregion.to_pixel(wwmustang[slcs]).to_mask().get_overlap_slices(mustangcld.shape)\n",
    "brmask = bigregion.to_pixel(wwmustang).to_mask()\n",
    "slcs,_ = brmask.get_overlap_slices(fhmustang[0].data.squeeze().shape)\n",
    "axins = ax.inset_axes([0.65, 0.05, 0.3, 0.3],\n",
    "                      xlim=(slcs_inset[0].start, slcs_inset[0].stop),\n",
    "                      ylim=(slcs_inset[1].start, slcs_inset[1].stop),\n",
    "                      #projection=wwmustang[slcs_inset]\n",
    "                     )\n",
    "im_ = axins.imshow(mustangcld, cmap=mymap,\n",
    "                   norm=simple_norm(mustangcld, max_cut=0.13, min_cut=0.036, stretch='asinh'))\n",
    "axins.set_xticklabels(\"\")\n",
    "axins.set_yticklabels(\"\")\n",
    "axins.set_xticks([])\n",
    "axins.set_yticks([])\n",
    "# axins.coords[0].set_axislabel(\"\")\n",
    "# axins.coords[1].set_axislabel(\"\")\n",
    "# axins.coords[0].set_ticklabel(visible=False)\n",
    "# axins.coords[1].set_ticklabel(visible=False);\n",
    "# axins.coords[0].set_ticks_visible(False)\n",
    "# axins.coords[1].set_ticks_visible(False);\n",
    "ax.indicate_inset_zoom(axins, edgecolor=\"black\");\n",
    "pl.savefig('/orange/adamginsburg/ACES/broadline_sources/G0.025-0.073/MUSTANG3mmContext.pdf', bbox_inches='tight')\n",
    "pl.savefig('/orange/adamginsburg/ACES/broadline_sources/G0.025-0.073/MUSTANG3mmContext.png', bbox_inches='tight')"
   ]
  },
  {
   "cell_type": "code",
   "execution_count": null,
   "id": "6b1a3e89-25b1-45c8-9029-bb8c726e6f05",
   "metadata": {},
   "outputs": [],
   "source": [
    "pl.imshow(mustangcld[slcs_inset],\n",
    "          cmap=mymap,\n",
    "          norm=simple_norm(mustangcld, max_cut=0.13, min_cut=0.036, stretch='asinh'))\n",
    "pl.colorbar()"
   ]
  },
  {
   "cell_type": "code",
   "execution_count": null,
   "id": "9f81b757-6261-4630-8c1a-9d6daa879540",
   "metadata": {},
   "outputs": [],
   "source": []
  },
  {
   "cell_type": "code",
   "execution_count": null,
   "id": "e4bea60f-0ef7-48fb-8f48-e6b08ee4e303",
   "metadata": {},
   "outputs": [],
   "source": []
  },
  {
   "cell_type": "code",
   "execution_count": null,
   "id": "ce57735e-e42a-4ec8-8e01-eed76a9963b0",
   "metadata": {},
   "outputs": [],
   "source": []
  }
 ],
 "metadata": {
  "kernelspec": {
   "display_name": "py310",
   "language": "python",
   "name": "py310"
  },
  "language_info": {
   "codemirror_mode": {
    "name": "ipython",
    "version": 3
   },
   "file_extension": ".py",
   "mimetype": "text/x-python",
   "name": "python",
   "nbconvert_exporter": "python",
   "pygments_lexer": "ipython3",
   "version": "3.10.8"
  }
 },
 "nbformat": 4,
 "nbformat_minor": 5
}
